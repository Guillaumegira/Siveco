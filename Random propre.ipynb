{
 "cells": [
  {
   "cell_type": "code",
   "execution_count": 8,
   "metadata": {},
   "outputs": [],
   "source": [
    "import random\n",
    "import pandas as pd"
   ]
  },
  {
   "cell_type": "markdown",
   "metadata": {},
   "source": [
    "## Initialisation"
   ]
  },
  {
   "cell_type": "markdown",
   "metadata": {},
   "source": [
    "Matrice contenant : Numéro de pompe, puis numéro de l'usine associée, puis temps de travail sur la pompe"
   ]
  },
  {
   "cell_type": "code",
   "execution_count": 41,
   "metadata": {},
   "outputs": [],
   "source": [
    "L=[[1,1,3],\n",
    "   [2,1,2],\n",
    "   [3,1,1],\n",
    "   [4,2,5],\n",
    "   [5,2,3],\n",
    "   [6,3,2],\n",
    "   [7,3,5],\n",
    "   [8,3,2],\n",
    "   [9,3,1],\n",
    "   [10,3,1]]"
   ]
  },
  {
   "cell_type": "markdown",
   "metadata": {},
   "source": [
    "Temps de trajet entre les usines. Le point 0 est lepoint de départ, correspondant à la ligne et colonne 0"
   ]
  },
  {
   "cell_type": "code",
   "execution_count": 42,
   "metadata": {},
   "outputs": [],
   "source": [
    "t=[[0,1,2,3],\n",
    "   [1,0,1,3],\n",
    "   [2,1,0,2],\n",
    "   [3,3,2,0]]"
   ]
  },
  {
   "cell_type": "markdown",
   "metadata": {},
   "source": [
    "Transformation des matrices précedentes en dataframe, pour pouvoir les traiter plus facilement"
   ]
  },
  {
   "cell_type": "code",
   "execution_count": 43,
   "metadata": {},
   "outputs": [],
   "source": [
    "t=pd.DataFrame(t)\n",
    "df = pd.DataFrame(L, columns = ['Pompe', 'Usine','Travail'])"
   ]
  },
  {
   "cell_type": "markdown",
   "metadata": {},
   "source": [
    "Création d'une matrice \"shuffled\", qui est en fait la matrice \"L\", avec les usines rangé aléatoirement. Les usines restent\n",
    "cependant groupés entre elles (on ne peut pas avoir usine 1 puis 3 puis 2 puis 1)"
   ]
  },
  {
   "cell_type": "code",
   "execution_count": 44,
   "metadata": {},
   "outputs": [],
   "source": [
    "groups = [df for _, df in df.groupby('Usine')]\n",
    "random.shuffle(groups)\n",
    "shuffled = pd.concat(groups).reset_index(drop=True)"
   ]
  },
  {
   "cell_type": "markdown",
   "metadata": {},
   "source": [
    "Initialisation des variables : capacité de travail = 8, charge de travail initial = 0, nb d'équipe initial =0\n",
    ", e représente les pompes visitées par l'équipe actuel =0, cete variable va servir à \"stocker\" les pompes à visiter par équipe. L'usine de départ est la \"0\" car c'est le point de départ, et s est le nombre de pompes à assigner (longueur de la matrice \"L\")"
   ]
  },
  {
   "cell_type": "code",
   "execution_count": 45,
   "metadata": {},
   "outputs": [],
   "source": [
    "capa=8\n",
    "charge =0\n",
    "nbequipes=1\n",
    "e=[]\n",
    "usineactuel=0\n",
    "s=len(shuffled.index) "
   ]
  },
  {
   "cell_type": "markdown",
   "metadata": {},
   "source": [
    "## Exécution"
   ]
  },
  {
   "cell_type": "code",
   "execution_count": 46,
   "metadata": {},
   "outputs": [
    {
     "name": "stdout",
     "output_type": "stream",
     "text": [
      "L'équipe 1 visite les pompes[6]\n",
      "L'équipe 1 a une charge de 5\n",
      "L'équipe 2 visite les pompes[7]\n",
      "L'équipe 2 a une charge de 8\n",
      "L'équipe 3 visite les pompes[8, 9, 10]\n",
      "L'équipe 3 a une charge de 7\n",
      "L'équipe 4 visite les pompes[4]\n",
      "L'équipe 4 a une charge de 7\n",
      "L'équipe 5 visite les pompes[5]\n",
      "L'équipe 5 a une charge de 5\n"
     ]
    }
   ],
   "source": [
    "for i in range(s):\n",
    "    #La prochaine pompe a assigner est la première dans la matrice shuffled, donc celle dans la première ligne et colonne\n",
    "    #\"pompe\" --> cellule [0,0]\n",
    "    pompe=shuffled.iloc[0,0]\n",
    "    #Cette pompe est dans l'usine donnée sur la même ligne et colonne usine -> cellule [0,1]\n",
    "    usinesuiv=shuffled.iloc[0,1]\n",
    "    #On calcul la charge de travail de l'équipe actuel, avec le temps de travail sur la pompe a assigner, plus le temps\n",
    "    #de trajet entre la pompe actuel et la pompe suivante. Si elles sont dans la même usine, il est de 0.\n",
    "    prev=charge+shuffled.iloc[0,2]+t.iloc[usineactuel,usinesuiv]\n",
    "    #Si cet charge de travail est supérieur à 8 (à changer, on s'en fout), on ne peut pas l'assigner à l'équipe actuel,\n",
    "    #et on rentre dans la boucle\n",
    "    if prev>8:\n",
    "        #On créé une variable equipe#pompes, ou # est le numéro de l'équipe. On assigne à cette équipe les pompes que l'on\n",
    "        #est en train d'affecter.\n",
    "        globals()['equipe'+str(nbequipes)+'pompes']=e\n",
    "        #Même principe pour la charge de travail\n",
    "        globals()['equipe'+str(nbequipes)+'charge']=charge \n",
    "        #On affiche les pompes visitées par l'équipe\n",
    "        print('L\\'équipe '+str(nbequipes)+' visite les pompes'+str(e))\n",
    "        #On affiche la charge de travail de l'équipe\n",
    "        print('L\\'équipe '+str(nbequipes)+' a une charge de '+str(charge))\n",
    "        #On réinitialise la variable e, pour pouvoir affecter les prochaines pompes\n",
    "        e=[]\n",
    "        #on augmente le nombre d'équipes\n",
    "        nbequipes=nbequipes+1\n",
    "        #On réinitialise la charge de travail de l'équipe en cours, en prenant en compte qu'ils partent de l'origine\n",
    "        charge =0\n",
    "        #On remet le point de départ au 0\n",
    "        usineactuel=0\n",
    "    #On peut maintenant dasn tous les cas affecter la pompe, on incrémente donc la charge de travail de l'équipe en cours\n",
    "    charge=charge+shuffled.iloc[0,2]+t.iloc[usineactuel,usinesuiv]\n",
    "    #On assigne la pompe en cours d'assignation à l'équipe en cours\n",
    "    e.append(pompe)\n",
    "    #On supprime la première ligne de la matrice shuffled, la pompe est assignée.\n",
    "    shuffled.drop(labels=i, inplace=True)\n",
    "    #On donne la nouvelle longueur de la matrice, afin de savoir si il reste des pompes à traiter\n",
    "    s=len(shuffled.index)  \n",
    "    #La pompe est affecté, on considère donc que l'usine ou elle est n'est plus la \"prochaine\", mais l'actuel\n",
    "    usineactuel=usinesuiv"
   ]
  },
  {
   "cell_type": "markdown",
   "metadata": {},
   "source": [
    "On affiche les données de la dernière équipe, qui n'est pas comprise avant car elle a peut-être encore de la capacité de travail"
   ]
  },
  {
   "cell_type": "code",
   "execution_count": 47,
   "metadata": {},
   "outputs": [
    {
     "name": "stdout",
     "output_type": "stream",
     "text": [
      "L'équipe 6 visite les pompes[1, 2, 3]\n",
      "L'équipe 6 a une charge de 7\n"
     ]
    }
   ],
   "source": [
    "print('L\\'équipe '+str(nbequipes)+' visite les pompes'+str(e))\n",
    "print('L\\'équipe '+str(nbequipes)+' a une charge de '+str(charge))"
   ]
  },
  {
   "cell_type": "code",
   "execution_count": null,
   "metadata": {},
   "outputs": [],
   "source": []
  }
 ],
 "metadata": {
  "kernelspec": {
   "display_name": "Python 3",
   "language": "python",
   "name": "python3"
  },
  "language_info": {
   "codemirror_mode": {
    "name": "ipython",
    "version": 3
   },
   "file_extension": ".py",
   "mimetype": "text/x-python",
   "name": "python",
   "nbconvert_exporter": "python",
   "pygments_lexer": "ipython3",
   "version": "3.7.3"
  }
 },
 "nbformat": 4,
 "nbformat_minor": 4
}
