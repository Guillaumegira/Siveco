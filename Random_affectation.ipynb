{
 "cells": [
  {
   "cell_type": "code",
   "execution_count": 1,
   "metadata": {},
   "outputs": [],
   "source": [
    "import random"
   ]
  },
  {
   "cell_type": "code",
   "execution_count": 31,
   "metadata": {},
   "outputs": [
    {
     "data": {
      "text/plain": [
       "[1, 2, 3, 4, 5, 6, 7]"
      ]
     },
     "execution_count": 31,
     "metadata": {},
     "output_type": "execute_result"
    }
   ],
   "source": [
    "L=[1,2,3,4,5,6,7]\n",
    "L"
   ]
  },
  {
   "cell_type": "code",
   "execution_count": 32,
   "metadata": {},
   "outputs": [
    {
     "data": {
      "text/plain": [
       "[6, 7, 1, 5, 2, 4, 3]"
      ]
     },
     "execution_count": 32,
     "metadata": {},
     "output_type": "execute_result"
    }
   ],
   "source": [
    "random.shuffle(L)\n",
    "L"
   ]
  },
  {
   "cell_type": "code",
   "execution_count": 33,
   "metadata": {},
   "outputs": [
    {
     "data": {
      "text/plain": [
       "7"
      ]
     },
     "execution_count": 33,
     "metadata": {},
     "output_type": "execute_result"
    }
   ],
   "source": [
    "t=len(L)\n",
    "t"
   ]
  },
  {
   "cell_type": "code",
   "execution_count": 5,
   "metadata": {},
   "outputs": [
    {
     "name": "stdout",
     "output_type": "stream",
     "text": [
      "Il y a 7 pompes\n",
      "la pompe sélectionnée est : 4\n",
      "Il reste 6 pompes\n",
      "L'équipe visite les pompes: [4]\n",
      "la pompe sélectionnée est : 5\n",
      "Il reste 5 pompes\n",
      "L'équipe visite les pompes: [4, 5]\n",
      "la pompe sélectionnée est : 6\n",
      "Il reste 4 pompes\n",
      "L'équipe visite les pompes: [4, 5, 6]\n",
      "la pompe sélectionnée est : 2\n",
      "Il reste 3 pompes\n",
      "L'équipe visite les pompes: [4, 5, 6, 2]\n",
      "la pompe sélectionnée est : 1\n",
      "Il reste 2 pompes\n",
      "L'équipe visite les pompes: [4, 5, 6, 2, 1]\n",
      "la pompe sélectionnée est : 7\n",
      "Il reste 1 pompes\n",
      "L'équipe visite les pompes: [4, 5, 6, 2, 1, 7]\n",
      "la pompe sélectionnée est : 3\n",
      "Il reste 0 pompes\n",
      "L'équipe visite les pompes: [4, 5, 6, 2, 1, 7, 3]\n"
     ]
    }
   ],
   "source": [
    "L=[1,2,3,4,5,6,7]\n",
    "random.shuffle(L)\n",
    "t=len(L)\n",
    "e=[]\n",
    "print('Il y a '+str(t)+' pompes')\n",
    "while t>0:\n",
    "    pompe=L[0]\n",
    "    del L[0]\n",
    "    t=len(L)  \n",
    "    e.append(pompe)\n",
    "    print('la pompe sélectionnée est : '+ str(pompe))\n",
    "    print('Il reste '+str(t)+' pompes')\n",
    "    print('L\\'équipe visite les pompes: '+str(e))\n",
    "    #pour le cas ou plusieurs équipes, le plus simple est de toujours remplir e, et quand la charge de travail\n",
    "    #est trop grande, on copie la liste dans la liste réel de l'équipe, on incrémente un compteur, vide e et recommence.\n",
    "    #si charge de travail >X:\n",
    "     #   nom='Equipe'+str(i)\n",
    "      #  nom=e\n",
    "        #e=[]\n",
    "    #et ensuite encore boucle for pour print toutes les équipes"
   ]
  }
 ],
 "metadata": {
  "kernelspec": {
   "display_name": "Python 3",
   "language": "python",
   "name": "python3"
  },
  "language_info": {
   "codemirror_mode": {
    "name": "ipython",
    "version": 3
   },
   "file_extension": ".py",
   "mimetype": "text/x-python",
   "name": "python",
   "nbconvert_exporter": "python",
   "pygments_lexer": "ipython3",
   "version": "3.7.3"
  }
 },
 "nbformat": 4,
 "nbformat_minor": 4
}
